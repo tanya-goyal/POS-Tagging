{
 "cells": [
  {
   "cell_type": "code",
   "execution_count": 1,
   "metadata": {},
   "outputs": [],
   "source": [
    "import os\n",
    "import pandas as pd\n",
    "import numpy as np\n",
    "from bs4 import BeautifulSoup"
   ]
  },
  {
   "cell_type": "code",
   "execution_count": 2,
   "metadata": {},
   "outputs": [],
   "source": [
    "#home='./Assignment-files'\n",
    "dest_path=r'C:\\Users\\tanya\\Desktop\\Tag Files'\n",
    "home=r'C:\\Users\\tanya\\Desktop\\Assignment-Files'"
   ]
  },
  {
   "cell_type": "code",
   "execution_count": 3,
   "metadata": {},
   "outputs": [],
   "source": [
    "def preprocess(source_paths,dest_path):\n",
    "    for folder in os.listdir(source_paths):\n",
    "        local_dest=dest_path+'/'+folder\n",
    "        if not os.path.isdir(local_dest):\n",
    "            os.mkdir(local_dest)\n",
    "        for file in os.listdir(source_paths+'/'+folder):\n",
    "            make_text(source_paths+\"/\"+folder+\"/\"+file,local_dest+\"/\"+file)\n",
    "            \n",
    "            \n",
    "            \n",
    "def make_text(file,dest):\n",
    "    word_list=\"\"\n",
    "    f=open(file,'r',encoding='utf-8')\n",
    "    file=f.read()\n",
    "    f.close()\n",
    "    soup=BeautifulSoup(file,'xml')\n",
    "    tags=soup.find_all('w')\n",
    "    tags2=soup.find_all('c')\n",
    "    for tag in tags:\n",
    "        word=tag.string\n",
    "        pos=tag['c5']\n",
    "        splittedTags=pos.split('-')\n",
    "        for tag1 in splittedTags:\n",
    "            word_list+=word.strip()+\"_\"+tag1+\" \"\n",
    "    for tag in tags2:\n",
    "        word=tag.string\n",
    "        pos=tag['c5']\n",
    "        if word is not None:\n",
    "            word_list+=word.strip()+\"_\"+pos+\" \"\n",
    "    newfile=open(dest[:-4]+ \".txt\",\"w+\",encoding='utf-8')\n",
    "    newfile.write(word_list)\n",
    "    newfile.close()"
   ]
  },
  {
   "cell_type": "code",
   "execution_count": 4,
   "metadata": {
    "scrolled": false
   },
   "outputs": [],
   "source": [
    "data = ['Train-corpus','Test-corpus']\n",
    "for i in data:\n",
    "    source_path=os.path.join(home,i)\n",
    "    path=os.path.join(dest_path,i)\n",
    "    if not os.path.isdir(path):\n",
    "        os.mkdir(path)\n",
    "    preprocess(source_path,path)"
   ]
  },
  {
   "cell_type": "code",
   "execution_count": null,
   "metadata": {},
   "outputs": [],
   "source": []
  },
  {
   "cell_type": "code",
   "execution_count": null,
   "metadata": {},
   "outputs": [],
   "source": []
  }
 ],
 "metadata": {
  "kernelspec": {
   "display_name": "Python 3",
   "language": "python",
   "name": "python3"
  },
  "language_info": {
   "codemirror_mode": {
    "name": "ipython",
    "version": 3
   },
   "file_extension": ".py",
   "mimetype": "text/x-python",
   "name": "python",
   "nbconvert_exporter": "python",
   "pygments_lexer": "ipython3",
   "version": "3.7.4"
  }
 },
 "nbformat": 4,
 "nbformat_minor": 2
}
